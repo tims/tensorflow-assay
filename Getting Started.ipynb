{
 "cells": [
  {
   "cell_type": "code",
   "execution_count": 9,
   "metadata": {
    "collapsed": true
   },
   "outputs": [],
   "source": [
    "# https://www.tensorflow.org/get_started/get_started\n",
    "\n",
    "import tensorflow as tf\n",
    "from showgraph import show_graph"
   ]
  },
  {
   "cell_type": "code",
   "execution_count": 5,
   "metadata": {},
   "outputs": [
    {
     "data": {
      "text/plain": [
       "[7.0, 11.0]"
      ]
     },
     "execution_count": 5,
     "metadata": {},
     "output_type": "execute_result"
    }
   ],
   "source": [
    "sess = tf.Session()\n",
    "left = tf.add(\n",
    "    tf.constant(3.0),\n",
    "    tf.constant(4.0)\n",
    ")\n",
    "right = tf.add(\n",
    "    tf.constant(2.0),\n",
    "    tf.constant(9.0)\n",
    ")\n",
    "sess.run([left, right])\n",
    "# show_graph(tf.get_default_graph().as_graph_def())"
   ]
  },
  {
   "cell_type": "code",
   "execution_count": 27,
   "metadata": {},
   "outputs": [
    {
     "name": "stdout",
     "output_type": "stream",
     "text": [
      "7.5\n",
      "[ 3.  7.]\n",
      "[  9.  18.  27.]\n"
     ]
    }
   ],
   "source": [
    "a = tf.placeholder(tf.float32)\n",
    "b = tf.placeholder(tf.float32)\n",
    "c = tf.placeholder(tf.float32)\n",
    "adder_node = a + b\n",
    "print(sess.run(adder_node, {a: 3, b:4.5}))\n",
    "\n",
    "print(sess.run(adder_node, {a: [1,3], b: [2, 4]}))\n",
    "\n",
    "\n",
    "out = (a + b) * c\n",
    "print(sess.run(out, {a: [1,2,3], b: [2,4,6], c: 3}))\n",
    "\n",
    "\n"
   ]
  },
  {
   "cell_type": "code",
   "execution_count": 41,
   "metadata": {},
   "outputs": [
    {
     "name": "stdout",
     "output_type": "stream",
     "text": [
      "[ 0.          0.30000001  0.60000002  0.90000004]\n",
      "23.66\n",
      "0.0\n"
     ]
    }
   ],
   "source": [
    "# model with trainable variables.\n",
    "\n",
    "a = tf.Variable([.3], tf.float32)\n",
    "b = tf.Variable([-.3], tf.float32)\n",
    "x = tf.placeholder(tf.float32)\n",
    "linear_model = a * x + b\n",
    "\n",
    "init = tf.global_variables_initializer()\n",
    "sess.run(init)\n",
    "print(sess.run(linear_model, {x:[1,2,3,4]}))\n",
    "\n",
    "\n",
    "# placeholder for collecting output of model\n",
    "y = tf.placeholder(tf.float32)\n",
    "squared_deltas = tf.square(linear_model - y)\n",
    "loss = tf.reduce_sum(squared_deltas) # sum of squares of deltas.\n",
    "\n",
    "print(sess.run(loss, {x:[1,2,3,4], y:[-0,-1,-2,-3]})) # compare output of x to training data outputs (y)\n",
    "# 23.66\n",
    "\n",
    "fixa = tf.assign(a, [-1.]) # this is what the linear comb should be.\n",
    "fixb = tf.assign(b, [1.])\n",
    "sess.run([fixa, fixb])\n",
    "print(sess.run(loss, {x:[1,2,3,4], y:[-0,-1,-2,-3]})) # compare output of x to training data outputs (y)\n",
    "# 0\n"
   ]
  },
  {
   "cell_type": "code",
   "execution_count": 44,
   "metadata": {},
   "outputs": [
    {
     "name": "stdout",
     "output_type": "stream",
     "text": [
      "[array([-0.9999969], dtype=float32), array([ 0.99999082], dtype=float32)]\n"
     ]
    }
   ],
   "source": [
    "# now let's add an optimizer that will find the values of a and b itself.\n",
    "\n",
    "optimizer = tf.train.GradientDescentOptimizer(0.01)\n",
    "train = optimizer.minimize(loss)\n",
    "\n",
    "sess.run(init) # reset values to incorrect defaults.\n",
    "\n",
    "for i in range(1000):\n",
    "  sess.run(train, {x:[1,2,3,4], y:[0,-1,-2,-3]})\n",
    "\n",
    "print(sess.run([a, b]))\n"
   ]
  },
  {
   "cell_type": "code",
   "execution_count": 56,
   "metadata": {},
   "outputs": [
    {
     "name": "stdout",
     "output_type": "stream",
     "text": [
      "a: [ 0.99661887] b: [ 122.4333725] loss: 3.31926e+06\n"
     ]
    },
    {
     "data": {
      "image/png": "[encoded data removed]",
      "text/plain": [
       "<matplotlib.figure.Figure at 0x119ec7f60>"
      ]
     },
     "metadata": {},
     "output_type": "display_data"
    }
   ],
   "source": [
    "%matplotlib inline\n",
    "import matplotlib.pyplot as plt\n",
    "import numpy as np\n",
    "import random\n",
    "\n",
    "a = tf.Variable([-.3], tf.float32)\n",
    "b = tf.Variable([.3], tf.float32)\n",
    "x = tf.placeholder(tf.float32)\n",
    "y = tf.placeholder(tf.float32)\n",
    "\n",
    "model = a * x + b\n",
    "\n",
    "loss = tf.reduce_sum(tf.squared_difference(model, y)) # Sum((y - y_i)^2)\n",
    "\n",
    "learning_rate = 1\n",
    "iteration = 1000\n",
    "\n",
    "train = tf.train.AdamOptimizer(learning_rate).minimize(loss)\n",
    "\n",
    "init = tf.global_variables_initializer()\n",
    "sess = tf.Session()\n",
    "sess.run(init)\n",
    "\n",
    "# training data\n",
    "x_train = [x for x in range(1,1000)]\n",
    "y_train = [i + 20 + (200 * random.random()) for i in range(1,1000)]\n",
    "\n",
    "\n",
    "sess = tf.Session()\n",
    "sess.run(init) # reset values to wrong\n",
    "for i in range(iteration):\n",
    "  sess.run(train, {x:x_train, y:y_train})\n",
    "\n",
    "curr_a, curr_b, curr_loss = sess.run([a, b, loss], {x:x_train, y:y_train})\n",
    "\n",
    "print(\"a: %s b: %s loss: %s\" % (curr_a, curr_b, curr_loss))\n",
    "\n",
    "y_predict = sess.run(model, {x:x_train})\n",
    "plt.plot(x_train, y_train)\n",
    "plt.plot(x_train, y_predict)\n",
    "plt.show()\n",
    "\n"
   ]
  },
  {
   "cell_type": "code",
   "execution_count": 57,
   "metadata": {},
   "outputs": [
    {
     "name": "stdout",
     "output_type": "stream",
     "text": [
      "INFO:tensorflow:Using default config.\n",
      "INFO:tensorflow:Using config: {'_task_type': None, '_task_id': 0, '_cluster_spec': <tensorflow.python.training.server_lib.ClusterSpec object at 0x119a71198>, '_master': '', '_num_ps_replicas': 0, '_num_worker_replicas': 0, '_environment': 'local', '_is_chief': True, '_evaluation_master': '', '_tf_config': gpu_options {\n",
      "  per_process_gpu_memory_fraction: 1\n",
      "}\n",
      ", '_tf_random_seed': None, '_save_summary_steps': 100, '_save_checkpoints_secs': 600, '_save_checkpoints_steps': None, '_keep_checkpoint_max': 5, '_keep_checkpoint_every_n_hours': 10000, '_model_dir': None}\n",
      "WARNING:tensorflow:Using temporary folder as model directory: /var/folders/h_/hlb_3mzs0h9d757_gq0rsyx000dkx2/T/tmpt_2l5tjk\n",
      "WARNING:tensorflow:Rank of input Tensor (1) should be the same as output_rank (2) for column. Will attempt to expand dims. It is highly recommended that you resize your input, as this behavior may change.\n",
      "WARNING:tensorflow:From /Users/tsell/workspace/me/tensorflow/.direnv/python-3.6.0/lib/python3.6/site-packages/tensorflow/contrib/learn/python/learn/estimators/head.py:615: scalar_summary (from tensorflow.python.ops.logging_ops) is deprecated and will be removed after 2016-11-30.\n",
      "Instructions for updating:\n",
      "Please switch to tf.summary.scalar. Note that tf.summary.scalar uses the node name instead of the tag. This means that TensorFlow will automatically de-duplicate summary names based on the scope they are created in. Also, passing a tensor or list of tags to a scalar summary op is no longer supported.\n",
      "INFO:tensorflow:Create CheckpointSaverHook.\n",
      "INFO:tensorflow:Saving checkpoints for 1 into /var/folders/h_/hlb_3mzs0h9d757_gq0rsyx000dkx2/T/tmpt_2l5tjk/model.ckpt.\n",
      "INFO:tensorflow:loss = 6.75, step = 1\n",
      "INFO:tensorflow:global_step/sec: 1136.19\n",
      "INFO:tensorflow:loss = 0.168876, step = 101 (0.091 sec)\n",
      "INFO:tensorflow:global_step/sec: 940.09\n",
      "INFO:tensorflow:loss = 0.0146219, step = 201 (0.106 sec)\n",
      "INFO:tensorflow:global_step/sec: 945.715\n",
      "INFO:tensorflow:loss = 0.00965001, step = 301 (0.106 sec)\n",
      "INFO:tensorflow:global_step/sec: 927.422\n",
      "INFO:tensorflow:loss = 0.00189461, step = 401 (0.108 sec)\n",
      "INFO:tensorflow:global_step/sec: 886.005\n",
      "INFO:tensorflow:loss = 0.00092533, step = 501 (0.113 sec)\n",
      "INFO:tensorflow:global_step/sec: 787.371\n",
      "INFO:tensorflow:loss = 8.49089e-05, step = 601 (0.130 sec)\n",
      "INFO:tensorflow:global_step/sec: 899.207\n",
      "INFO:tensorflow:loss = 5.78715e-05, step = 701 (0.107 sec)\n",
      "INFO:tensorflow:global_step/sec: 1135.25\n",
      "INFO:tensorflow:loss = 1.57334e-05, step = 801 (0.088 sec)\n",
      "INFO:tensorflow:global_step/sec: 966.603\n",
      "INFO:tensorflow:loss = 5.32281e-06, step = 901 (0.103 sec)\n",
      "INFO:tensorflow:Saving checkpoints for 1000 into /var/folders/h_/hlb_3mzs0h9d757_gq0rsyx000dkx2/T/tmpt_2l5tjk/model.ckpt.\n",
      "INFO:tensorflow:Loss for final step: 1.23421e-06.\n",
      "WARNING:tensorflow:Rank of input Tensor (1) should be the same as output_rank (2) for column. Will attempt to expand dims. It is highly recommended that you resize your input, as this behavior may change.\n",
      "WARNING:tensorflow:From /Users/tsell/workspace/me/tensorflow/.direnv/python-3.6.0/lib/python3.6/site-packages/tensorflow/contrib/learn/python/learn/estimators/head.py:615: scalar_summary (from tensorflow.python.ops.logging_ops) is deprecated and will be removed after 2016-11-30.\n",
      "Instructions for updating:\n",
      "Please switch to tf.summary.scalar. Note that tf.summary.scalar uses the node name instead of the tag. This means that TensorFlow will automatically de-duplicate summary names based on the scope they are created in. Also, passing a tensor or list of tags to a scalar summary op is no longer supported.\n",
      "INFO:tensorflow:Starting evaluation at 2017-05-10-18:36:20\n",
      "INFO:tensorflow:Restoring parameters from /var/folders/h_/hlb_3mzs0h9d757_gq0rsyx000dkx2/T/tmpt_2l5tjk/model.ckpt-1000\n",
      "INFO:tensorflow:Finished evaluation at 2017-05-10-18:36:21\n",
      "INFO:tensorflow:Saving dict for global step 1000: global_step = 1000, loss = 1.25e-06\n",
      "WARNING:tensorflow:Skipping summary for global_step, must be a float or np.float32.\n",
      "{'loss': 1.25e-06, 'global_step': 1000}\n"
     ]
    }
   ],
   "source": [
    "# Example using tf.contrib.learn\n",
    "\n",
    "import tensorflow as tf\n",
    "import numpy as np\n",
    "\n",
    "features = [tf.contrib.layers.real_valued_column(\"x\", dimension=1)]\n",
    "\n",
    "estimator = tf.contrib.learn.LinearRegressor(feature_columns=features)\n",
    "\n",
    "x = np.array([1., 2., 3., 4.])\n",
    "y = np.array([0., -1., -2., -3.])\n",
    "\n",
    "input_fn = tf.contrib.learn.io.numpy_input_fn({\"x\":x}, y, batch_size=4,\n",
    "                                              num_epochs=1000)\n",
    "\n",
    "estimator.fit(input_fn=input_fn, steps=1000)\n",
    "\n",
    "print(estimator.evaluate(input_fn=input_fn))\n",
    "\n"
   ]
  },
  {
   "cell_type": "code",
   "execution_count": 55,
   "metadata": {},
   "outputs": [
    {
     "name": "stdout",
     "output_type": "stream",
     "text": [
      "INFO:tensorflow:Using default config.\n",
      "INFO:tensorflow:Using config: {'_task_type': None, '_task_id': 0, '_cluster_spec': <tensorflow.python.training.server_lib.ClusterSpec object at 0x119a718d0>, '_master': '', '_num_ps_replicas': 0, '_num_worker_replicas': 0, '_environment': 'local', '_is_chief': True, '_evaluation_master': '', '_tf_config': gpu_options {\n",
      "  per_process_gpu_memory_fraction: 1\n",
      "}\n",
      ", '_tf_random_seed': None, '_save_summary_steps': 100, '_save_checkpoints_secs': 600, '_save_checkpoints_steps': None, '_keep_checkpoint_max': 5, '_keep_checkpoint_every_n_hours': 10000, '_model_dir': None}\n",
      "WARNING:tensorflow:Using temporary folder as model directory: /var/folders/h_/hlb_3mzs0h9d757_gq0rsyx000dkx2/T/tmpmofm93ss\n",
      "INFO:tensorflow:Create CheckpointSaverHook.\n",
      "INFO:tensorflow:Saving checkpoints for 1 into /var/folders/h_/hlb_3mzs0h9d757_gq0rsyx000dkx2/T/tmpmofm93ss/model.ckpt.\n",
      "INFO:tensorflow:loss = 5.08914138088, step = 1\n",
      "INFO:tensorflow:global_step/sec: 1044.78\n",
      "INFO:tensorflow:loss = 0.0674682248499, step = 101 (0.097 sec)\n",
      "INFO:tensorflow:global_step/sec: 1109.29\n",
      "INFO:tensorflow:loss = 0.0039179864069, step = 201 (0.090 sec)\n",
      "INFO:tensorflow:global_step/sec: 767.936\n",
      "INFO:tensorflow:loss = 0.000276705753646, step = 301 (0.131 sec)\n",
      "INFO:tensorflow:global_step/sec: 744.746\n",
      "INFO:tensorflow:loss = 4.33236698219e-05, step = 401 (0.134 sec)\n",
      "INFO:tensorflow:global_step/sec: 735.581\n",
      "INFO:tensorflow:loss = 3.75258402915e-06, step = 501 (0.137 sec)\n",
      "INFO:tensorflow:global_step/sec: 851.195\n",
      "INFO:tensorflow:loss = 8.44467913485e-08, step = 601 (0.117 sec)\n",
      "INFO:tensorflow:global_step/sec: 685.585\n",
      "INFO:tensorflow:loss = 2.63623972231e-08, step = 701 (0.145 sec)\n",
      "INFO:tensorflow:global_step/sec: 849.632\n",
      "INFO:tensorflow:loss = 1.05102206213e-09, step = 801 (0.118 sec)\n",
      "INFO:tensorflow:global_step/sec: 812.401\n",
      "INFO:tensorflow:loss = 7.65359237666e-11, step = 901 (0.121 sec)\n",
      "INFO:tensorflow:Saving checkpoints for 1000 into /var/folders/h_/hlb_3mzs0h9d757_gq0rsyx000dkx2/T/tmpmofm93ss/model.ckpt.\n",
      "INFO:tensorflow:Loss for final step: 1.72721569713e-11.\n",
      "INFO:tensorflow:Starting evaluation at 2017-05-10-15:49:44\n",
      "INFO:tensorflow:Restoring parameters from /var/folders/h_/hlb_3mzs0h9d757_gq0rsyx000dkx2/T/tmpmofm93ss/model.ckpt-1000\n",
      "INFO:tensorflow:Evaluation [1/10]\n",
      "INFO:tensorflow:Evaluation [2/10]\n",
      "INFO:tensorflow:Evaluation [3/10]\n",
      "INFO:tensorflow:Evaluation [4/10]\n",
      "INFO:tensorflow:Evaluation [5/10]\n",
      "INFO:tensorflow:Evaluation [6/10]\n",
      "INFO:tensorflow:Evaluation [7/10]\n",
      "INFO:tensorflow:Evaluation [8/10]\n",
      "INFO:tensorflow:Evaluation [9/10]\n",
      "INFO:tensorflow:Evaluation [10/10]\n",
      "INFO:tensorflow:Finished evaluation at 2017-05-10-15:49:45\n",
      "INFO:tensorflow:Saving dict for global step 1000: global_step = 1000, loss = 1.69037e-11\n",
      "WARNING:tensorflow:Skipping summary for global_step, must be a float or np.float32.\n",
      "{'loss': 1.6903713e-11, 'global_step': 1000}\n"
     ]
    }
   ],
   "source": [
    "# Now let's do that with a custom model (instead of linear regression).\n",
    "\n",
    "import numpy as np\n",
    "import tensorflow as tf\n",
    "\n",
    "def model(features, labels, mode):\n",
    "    # model sub graph\n",
    "    a = tf.get_variable(\"a\", [1], dtype=tf.float64)\n",
    "    b = tf.get_variable(\"b\", [1], dtype=tf.float64)\n",
    "    y = a * features['x'] + b\n",
    "    # Loss sub graph\n",
    "    loss = tf.reduce_sum(tf.square(y - labels))\n",
    "    # Training sub-graph\n",
    "    global_step = tf.train.get_global_step()\n",
    "    optimizer = tf.train.GradientDescentOptimizer(0.01)\n",
    "    train = tf.group(optimizer.minimize(loss),\n",
    "                   tf.assign_add(global_step, 1))\n",
    "    # ModelFnOps connects subgraphs we built to the\n",
    "    # appropriate functionality.\n",
    "    return tf.contrib.learn.ModelFnOps(\n",
    "      mode=mode, predictions=y,\n",
    "      loss=loss,\n",
    "      train_op=train)\n",
    "\n",
    "estimator = tf.contrib.learn.Estimator(model_fn=model)\n",
    "x = np.array([1., 2., 3., 4.])\n",
    "y = np.array([0., -1., -2., -3.])\n",
    "input_fn = tf.contrib.learn.io.numpy_input_fn({\"x\": x}, y, 4, num_epochs=1000)\n",
    "\n",
    "# train\n",
    "estimator.fit(input_fn=input_fn, steps=1000)\n",
    "# evaluate our model\n",
    "print(estimator.evaluate(input_fn=input_fn, steps=10))\n",
    "    "
   ]
  }
 ],
 "metadata": {
  "kernelspec": {
   "display_name": "Python 3",
   "language": "python",
   "name": "python3"
  },
  "language_info": {
   "codemirror_mode": {
    "name": "ipython",
    "version": 3
   },
   "file_extension": ".py",
   "mimetype": "text/x-python",
   "name": "python",
   "nbconvert_exporter": "python",
   "pygments_lexer": "ipython3",
   "version": "3.6.0"
  }
 },
 "nbformat": 4,
 "nbformat_minor": 2
}
